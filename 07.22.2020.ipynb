{
 "cells": [
  {
   "cell_type": "markdown",
   "metadata": {},
   "source": [
    "# Lesson 1\n",
    "\n",
    "Learn the **Print ()** statement. A \"statement\" is a command that the programmer gives to the computer to excute.  Put something you want to print inside the double quotes (\"\") or single quotes (''). In Python, double quotes and single quotes can be used interchangeably. "
   ]
  },
  {
   "cell_type": "code",
   "execution_count": 9,
   "metadata": {},
   "outputs": [
    {
     "name": "stdout",
     "output_type": "stream",
     "text": [
      "I am a boy, I like dog.\n",
      "I am a girl, I like cat.\n"
     ]
    }
   ],
   "source": [
    "print(\"I am a boy, I like dog.\")\n",
    "print(\"I am a girl, I like cat.\")"
   ]
  },
  {
   "cell_type": "markdown",
   "metadata": {},
   "source": [
    "But don't mix use double quote and singel quote. You will encounter error if you run the statemente below"
   ]
  },
  {
   "cell_type": "code",
   "execution_count": 10,
   "metadata": {
    "collapsed": true,
    "jupyter": {
     "outputs_hidden": true
    }
   },
   "outputs": [
    {
     "ename": "SyntaxError",
     "evalue": "EOL while scanning string literal (<ipython-input-10-58747a7758c8>, line 1)",
     "output_type": "error",
     "traceback": [
      "\u001b[0;36m  File \u001b[0;32m\"<ipython-input-10-58747a7758c8>\"\u001b[0;36m, line \u001b[0;32m1\u001b[0m\n\u001b[0;31m    print(\"I like goat!')\u001b[0m\n\u001b[0m                         ^\u001b[0m\n\u001b[0;31mSyntaxError\u001b[0m\u001b[0;31m:\u001b[0m EOL while scanning string literal\n"
     ]
    }
   ],
   "source": [
    "print(\"I like goat!')"
   ]
  },
  {
   "cell_type": "markdown",
   "metadata": {},
   "source": [
    "It's OK to have space betwewn the print and the parentheses. But it's common to NOT place a space between them. "
   ]
  },
  {
   "cell_type": "code",
   "execution_count": 11,
   "metadata": {
    "collapsed": true,
    "jupyter": {
     "outputs_hidden": true
    }
   },
   "outputs": [
    {
     "name": "stdout",
     "output_type": "stream",
     "text": [
      "I am a girl, I like cat.\n"
     ]
    }
   ],
   "source": [
    "print   (\"I am a girl, I like cat.\")"
   ]
  },
  {
   "cell_type": "markdown",
   "metadata": {},
   "source": [
    "You can give many strings to the **print()**, it will concatenate (i.e. join) them together automatically. It will use **a single space** to separate them. "
   ]
  },
  {
   "cell_type": "code",
   "execution_count": 18,
   "metadata": {},
   "outputs": [
    {
     "name": "stdout",
     "output_type": "stream",
     "text": [
      "cat dog cow horse\n"
     ]
    }
   ],
   "source": [
    "print(\"cat\",\"dog\",\"cow\",\"horse\")"
   ]
  },
  {
   "cell_type": "markdown",
   "metadata": {},
   "source": [
    "You can change **print()**'s defualt behaviour by providing a new separator."
   ]
  },
  {
   "cell_type": "code",
   "execution_count": 15,
   "metadata": {},
   "outputs": [
    {
     "name": "stdout",
     "output_type": "stream",
     "text": [
      "cat_dog_cow_horse\n"
     ]
    }
   ],
   "source": [
    "print   (\"cat\",\"dog\",\"cow\",\"horse\", sep=\"_\")"
   ]
  },
  {
   "cell_type": "markdown",
   "metadata": {},
   "source": [
    "**print()** can do simple math. In this situation, don't use double or single quotes. If you use double or single quotes, **print()** just output what is sees, it won't **calculate** it. "
   ]
  },
  {
   "cell_type": "code",
   "execution_count": 17,
   "metadata": {},
   "outputs": [
    {
     "name": "stdout",
     "output_type": "stream",
     "text": [
      "3\n",
      "16\n",
      "20\n",
      "5.0\n"
     ]
    }
   ],
   "source": [
    "print(1+2)\n",
    "print (1+3*5)\n",
    "print ((1+3)*5)\n",
    "print(100/20)"
   ]
  },
  {
   "cell_type": "code",
   "execution_count": 19,
   "metadata": {},
   "outputs": [
    {
     "name": "stdout",
     "output_type": "stream",
     "text": [
      "1+2\n"
     ]
    }
   ],
   "source": [
    "print (\"1+2\")"
   ]
  },
  {
   "cell_type": "markdown",
   "metadata": {},
   "source": [
    "If you want to print **mulitple lines** (such as paragraph), you can use triple quotes such as \"\"\"xxx\"\"\" or '''xxx'''"
   ]
  },
  {
   "cell_type": "code",
   "execution_count": 21,
   "metadata": {},
   "outputs": [
    {
     "name": "stdout",
     "output_type": "stream",
     "text": [
      "I am a boy. \n",
      "I like dog.\n",
      "I don't like cat.\n"
     ]
    }
   ],
   "source": [
    "print(\"\"\"I am a boy. \n",
    "I like dog.\n",
    "I don't like cat.\"\"\")"
   ]
  },
  {
   "cell_type": "code",
   "execution_count": null,
   "metadata": {},
   "outputs": [],
   "source": []
  }
 ],
 "metadata": {
  "kernelspec": {
   "display_name": "Python 3",
   "language": "python",
   "name": "python3"
  },
  "language_info": {
   "codemirror_mode": {
    "name": "ipython",
    "version": 3
   },
   "file_extension": ".py",
   "mimetype": "text/x-python",
   "name": "python",
   "nbconvert_exporter": "python",
   "pygments_lexer": "ipython3",
   "version": "3.7.3"
  }
 },
 "nbformat": 4,
 "nbformat_minor": 4
}
