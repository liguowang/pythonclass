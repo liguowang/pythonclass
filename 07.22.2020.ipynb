{
 "cells": [
  {
   "cell_type": "markdown",
   "metadata": {},
   "source": [
    "# Lesson 1 (print)\n",
    "\n",
    "Learn the **Print ()** statement. A \"statement\" is a command that the programmer gives to the computer to excute.  Put something you want to print inside the double quotes (\"\") or single quotes (''). In Python, double quotes and single quotes can be used interchangeably. "
   ]
  },
  {
   "cell_type": "code",
   "execution_count": 1,
   "metadata": {},
   "outputs": [
    {
     "name": "stdout",
     "output_type": "stream",
     "text": [
      "I am Joshua, I like cheeseburg.\n",
      "I am Jacob, I like milk.\n"
     ]
    }
   ],
   "source": [
    "print(\"I am Joshua, I like cheeseburg.\")\n",
    "print(\"I am Jacob, I like milk.\")"
   ]
  },
  {
   "cell_type": "markdown",
   "metadata": {},
   "source": [
    "But don't mix use double quote and singel quote. You will encounter error if you run the statemente below"
   ]
  },
  {
   "cell_type": "code",
   "execution_count": 2,
   "metadata": {},
   "outputs": [
    {
     "ename": "SyntaxError",
     "evalue": "EOL while scanning string literal (<ipython-input-2-2c8c15896e2a>, line 1)",
     "output_type": "error",
     "traceback": [
      "\u001b[0;36m  File \u001b[0;32m\"<ipython-input-2-2c8c15896e2a>\"\u001b[0;36m, line \u001b[0;32m1\u001b[0m\n\u001b[0;31m    print(\"I like goat milk!')\u001b[0m\n\u001b[0m                              ^\u001b[0m\n\u001b[0;31mSyntaxError\u001b[0m\u001b[0;31m:\u001b[0m EOL while scanning string literal\n"
     ]
    }
   ],
   "source": [
    "print(\"I like goat milk!')"
   ]
  },
  {
   "cell_type": "markdown",
   "metadata": {},
   "source": [
    "It's OK to have space betwewn the print and the parentheses. But it's common to NOT place a space between them. "
   ]
  },
  {
   "cell_type": "code",
   "execution_count": 3,
   "metadata": {},
   "outputs": [
    {
     "name": "stdout",
     "output_type": "stream",
     "text": [
      "I like goat milk!\n"
     ]
    }
   ],
   "source": [
    "print   (\"I like goat milk!\")"
   ]
  },
  {
   "cell_type": "markdown",
   "metadata": {},
   "source": [
    "You can give many strings to the **print()**, it will concatenate (i.e. join) them together automatically. It will use **a single space** to separate them. "
   ]
  },
  {
   "cell_type": "code",
   "execution_count": 5,
   "metadata": {},
   "outputs": [
    {
     "name": "stdout",
     "output_type": "stream",
     "text": [
      "cat dog cow horse chicken\n"
     ]
    }
   ],
   "source": [
    "print(\"cat\",\"dog\",\"cow\",\"horse\", 'chicken')"
   ]
  },
  {
   "cell_type": "markdown",
   "metadata": {},
   "source": [
    "You can change **print()**'s defualt behaviour by providing a new separator."
   ]
  },
  {
   "cell_type": "code",
   "execution_count": 7,
   "metadata": {},
   "outputs": [
    {
     "name": "stdout",
     "output_type": "stream",
     "text": [
      "cat_dog_cow_horse\n"
     ]
    }
   ],
   "source": [
    "print   (\"cat\",\"dog\",\"cow\",\"horse\", sep=\"_\")"
   ]
  },
  {
   "cell_type": "markdown",
   "metadata": {},
   "source": [
    "**print()** can do simple math. In this situation, don't use double or single quotes. If you use double or single quotes, **print()** just output what is sees, it won't **calculate** it. "
   ]
  },
  {
   "cell_type": "code",
   "execution_count": 8,
   "metadata": {},
   "outputs": [
    {
     "name": "stdout",
     "output_type": "stream",
     "text": [
      "3\n",
      "16\n",
      "20\n",
      "5.0\n"
     ]
    }
   ],
   "source": [
    "print(1+2)\n",
    "print (1+3*5)\n",
    "print ((1+3)*5)\n",
    "print(100/20)"
   ]
  },
  {
   "cell_type": "code",
   "execution_count": 19,
   "metadata": {},
   "outputs": [
    {
     "name": "stdout",
     "output_type": "stream",
     "text": [
      "1+2\n"
     ]
    }
   ],
   "source": [
    "print (\"1+2\")"
   ]
  },
  {
   "cell_type": "markdown",
   "metadata": {},
   "source": [
    "If you want to print **mulitple lines** (such as paragraph), you can use triple quotes such as \"\"\"xxx\"\"\" or '''xxx'''"
   ]
  },
  {
   "cell_type": "code",
   "execution_count": 10,
   "metadata": {},
   "outputs": [
    {
     "name": "stdout",
     "output_type": "stream",
     "text": [
      "I am Joshua. \n",
      "I am Jacob.\n",
      "We are brothers!\n"
     ]
    }
   ],
   "source": [
    "print(\"\"\"I am Joshua. \n",
    "I am Jacob.\n",
    "We are brothers!\"\"\")"
   ]
  },
  {
   "cell_type": "markdown",
   "metadata": {},
   "source": [
    "# Lesson 2 (input)\n",
    "Learn the **input()** statement. The **input** statement read something from **standard input**. Here, \"standard input\" means your keyboard, there are non-standard input devices like camera, scanners that are using in Walmart). Guess what is the standard output? It's your screen!\n",
    "\n",
    "---\n",
    "**NOTE**\n",
    "\n",
    "Any lines in your code block that starting with \"#\" will be ignored by computer. These lines are called **comments**\n",
    "\n",
    "---\n"
   ]
  },
  {
   "cell_type": "code",
   "execution_count": 5,
   "metadata": {},
   "outputs": [
    {
     "name": "stdin",
     "output_type": "stream",
     "text": [
      "What's your first name? Joshua\n",
      "What's your family name? Wang\n"
     ]
    },
    {
     "name": "stdout",
     "output_type": "stream",
     "text": [
      "my full name is: Wang Joshua\n"
     ]
    }
   ],
   "source": [
    "# we saved the input strings into the variables called \"first_name\" and \"last_name\". \n",
    "first_name = input(\"What's your first name?\")\n",
    "last_name = input(\"What's your family name?\")\n",
    "\n",
    "# we then print them out\n",
    "print (\"my full name is:\", last_name,first_name)\n"
   ]
  },
  {
   "cell_type": "code",
   "execution_count": null,
   "metadata": {},
   "outputs": [],
   "source": []
  }
 ],
 "metadata": {
  "kernelspec": {
   "display_name": "Python 3",
   "language": "python",
   "name": "python3"
  },
  "language_info": {
   "codemirror_mode": {
    "name": "ipython",
    "version": 3
   },
   "file_extension": ".py",
   "mimetype": "text/x-python",
   "name": "python",
   "nbconvert_exporter": "python",
   "pygments_lexer": "ipython3",
   "version": "3.7.3"
  }
 },
 "nbformat": 4,
 "nbformat_minor": 4
}
